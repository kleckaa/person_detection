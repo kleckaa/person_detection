{
 "cells": [
  {
   "cell_type": "code",
   "execution_count": 3,
   "metadata": {},
   "outputs": [
    {
     "name": "stdout",
     "output_type": "stream",
     "text": [
      "6675\n",
      "1112\n"
     ]
    }
   ],
   "source": [
    "import cv2\n",
    "vidcap = cv2.VideoCapture('IMG_2319.mov')# cesta k videu\n",
    "success,image = vidcap.read()\n",
    "count = 0\n",
    "a=0\n",
    "h=1\n",
    "while success:\n",
    "    if a>5: #po kolika obrazcich se budou ukladat\n",
    "        image=cv2.resize(image,(650,520))\n",
    "        cv2.imwrite(\"img3/image3_%d.jpg\" % count, image)# kam se budou ukladat obrazky\n",
    "        a=0  \n",
    "        count += 1\n",
    "    success,image = vidcap.read()\n",
    "    a+=1\n",
    "    h+=1\n",
    "    \n",
    "print(h)\n",
    "print(count)\n"
   ]
  },
  {
   "cell_type": "code",
   "execution_count": null,
   "metadata": {},
   "outputs": [],
   "source": []
  }
 ],
 "metadata": {
  "kernelspec": {
   "display_name": "Python 3",
   "language": "python",
   "name": "python3"
  },
  "language_info": {
   "codemirror_mode": {
    "name": "ipython",
    "version": 3
   },
   "file_extension": ".py",
   "mimetype": "text/x-python",
   "name": "python",
   "nbconvert_exporter": "python",
   "pygments_lexer": "ipython3",
   "version": "3.6.3"
  }
 },
 "nbformat": 4,
 "nbformat_minor": 4
}
