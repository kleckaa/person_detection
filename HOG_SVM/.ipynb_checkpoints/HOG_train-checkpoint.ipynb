{
 "cells": [
  {
   "cell_type": "code",
   "execution_count": 13,
   "metadata": {},
   "outputs": [],
   "source": [
    "from skimage.feature import hog\n",
    "from skimage.transform import pyramid_gaussian\n",
    "from skimage.io import imread\n",
    "import joblib\n",
    "from sklearn.preprocessing import LabelEncoder\n",
    "from sklearn.svm import LinearSVC\n",
    "\n",
    "\n",
    "from sklearn.metrics import classification_report\n",
    "\n",
    "from sklearn.model_selection import train_test_split\n",
    "from skimage import color\n",
    "from imutils.object_detection import non_max_suppression\n",
    "import imutils\n",
    "import numpy as np\n",
    "import argparse\n",
    "import cv2\n",
    "import os\n",
    "import glob\n",
    "\n",
    "\n",
    "from timeit import default_timer as timer"
   ]
  },
  {
   "cell_type": "code",
   "execution_count": 14,
   "metadata": {},
   "outputs": [
    {
     "name": "stdout",
     "output_type": "stream",
     "text": [
      "pozitivní data trénovací množiny: 11434\n",
      "negativní data trénovací množiny: 47684\n",
      "pozitivních data validační množiny: 1412\n",
      "negativní data validační množiny: 6947\n",
      "Trénování SVM\n",
      "Čas trénování: 34.4122890000001\n"
     ]
    },
    {
     "name": "stderr",
     "output_type": "stream",
     "text": [
      "c:\\users\\kleck\\appdata\\local\\programs\\python\\python36\\lib\\site-packages\\sklearn\\svm\\_base.py:977: ConvergenceWarning: Liblinear failed to converge, increase the number of iterations.\n",
      "  \"the number of iterations.\", ConvergenceWarning)\n"
     ]
    },
    {
     "data": {
      "text/plain": [
       "['model/modelSVM.npy']"
      ]
     },
     "execution_count": 14,
     "metadata": {},
     "output_type": "execute_result"
    }
   ],
   "source": [
    "#parametry hog\n",
    "\n",
    "orientations = 9\n",
    "pixels_per_cell = (8, 8)\n",
    "cells_per_block = (2, 2)\n",
    "threshold = .3\n",
    "\n",
    "#---------\n",
    "\n",
    "pos_im_path = 'dataset/train_pos/' \n",
    "neg_im_path = 'dataset/train_neg/'\n",
    "\n",
    "# načtení obrázků\n",
    "pos_im_listing = os.listdir(pos_im_path)  \n",
    "neg_im_listing = os.listdir(neg_im_path)\n",
    "num_pos_samples = size(pos_im_listing)  \n",
    "num_neg_samples = size(neg_im_listing)\n",
    "print(f'pozitivní data trénovací množiny: {num_pos_samples}')  \n",
    "print(f'negativní data trénovací množiny: {num_neg_samples}') \n",
    "data_train = []\n",
    "labels_train = []\n",
    "\n",
    "\n",
    "\n",
    "for file in pos_im_listing:  \n",
    "    img = Image.open(pos_im_path + '\\\\' + file) \n",
    "    gray = img.convert('L')  # převedení do odstínů šedi       \n",
    "    # Výpočet hogů\n",
    "    fd = hog(gray, orientations, pixels_per_cell, cells_per_block, block_norm='L2', feature_vector=True)  # fd= feature descriptor\n",
    "    data_train.append(fd)\n",
    "    labels_train.append(1)\n",
    "\n",
    "for file in neg_im_listing:\n",
    "    img = Image.open(neg_im_path + '\\\\' + file)\n",
    "    gray = img.convert('L') # převedení do odstínů šedi       \n",
    "    # Výpočet hogů\n",
    "    fd = hog(gray, orientations, pixels_per_cell, cells_per_block,block_norm='L2', feature_vector=True)\n",
    "    data_train.append(fd)\n",
    "    labels_train.append(0)\n",
    "le1 = LabelEncoder()\n",
    "labels_train = le1.fit_transform(labels_train)\n",
    "\n",
    "\n",
    "\n",
    "pos_im_path_val = 'dataset/val_pos/' \n",
    "neg_im_path_val = 'dataset/val_neg/'\n",
    "\n",
    "pos_im_listing_val = os.listdir(pos_im_path_val) \n",
    "neg_im_listing_val = os.listdir(neg_im_path_val)\n",
    "num_pos_samples_val = size(pos_im_listing_val)  \n",
    "num_neg_samples_val = size(neg_im_listing_val)\n",
    "print(f'pozitivních data validační množiny: {num_pos_samples_val}') \n",
    "print(f'negativní data validační množiny: {num_neg_samples_val}') \n",
    "\n",
    "\n",
    "data_val_pos=[]\n",
    "labels_val_pos=[]\n",
    "\n",
    "for file in pos_im_listing_val:  \n",
    "    img = Image.open(pos_im_path_val + '\\\\' + file)  \n",
    "    gray = img.convert('L')  # transformovani obrazku do odstinu sedi    \n",
    "    # Výpočet hogů pro trénovací data\n",
    "    fd = hog(gray, orientations, pixels_per_cell, cells_per_block, block_norm='L2', feature_vector=True)  # fd= feature descriptor\n",
    "    data_val_pos.append(fd)\n",
    "    labels_val_pos.append(1)\n",
    "le2 = LabelEncoder()\n",
    "labels_val_pos = le2.fit_transform(labels_val_pos)    \n",
    "\n",
    "\n",
    "data_val_neg=[]\n",
    "labels_val_neg=[]\n",
    "\n",
    "for file in neg_im_listing_val:\n",
    "    img = Image.open(neg_im_path_val + '\\\\' + file)\n",
    "    gray = img.convert('L')\n",
    "    # Výpočet hogů pro validacni data\n",
    "    fd = hog(gray, orientations, pixels_per_cell, cells_per_block,block_norm='L2', feature_vector=True)\n",
    "    data_val_neg.append(fd)\n",
    "    labels_val_neg.append(0)\n",
    "le3 = LabelEncoder()\n",
    "labels_val_pos = le3.fit_transform(labels_val_neg)    \n",
    "\n",
    "'''\n",
    "#Rozdeleni dat na trenovaci a testovaci\n",
    "print(\" Constructing training/testing split...\")\n",
    "(trainData, testData, trainLabels, testLabels) = train_test_split(\n",
    "    np.array(data), labels, test_size=0.3, random_state=35)\n",
    "'''\n",
    "start = timer()\n",
    "\n",
    "classif=0\n",
    "\n",
    "if classif==0:\n",
    "    print(\"Trénování SVM\")\n",
    "    model = LinearSVC()\n",
    "\n",
    "model.fit(data_train, labels_train)\n",
    "\n",
    "end = timer()\n",
    "print(f'Čas trénování: {end-start}')\n",
    "\n",
    "model_path = 'model/modelSVM.npy'\n",
    "joblib.dump(model, model_path)\n",
    "\n"
   ]
  },
  {
   "cell_type": "code",
   "execution_count": 19,
   "metadata": {},
   "outputs": [
    {
     "name": "stdout",
     "output_type": "stream",
     "text": [
      "Zvalidování modelu na validační datech ...\n",
      "Správně zaklasifikováné lidi z pozitivních dat: 0.9376770538243626\n",
      "Správně zaklasifikované ostatní objekty z negativních dat jako lidi: 0.014826543831869873\n",
      "-------\n",
      "celková úspěšnost SVM v %: 96.14252549962463\n"
     ]
    }
   ],
   "source": [
    "\n",
    "print(\"Zvalidování modelu na validační datech ...\")\n",
    "predictions_pos = model.predict(data_val_pos)\n",
    "pos_acc=sum(predictions_pos)/len(predictions_pos)\n",
    "print(f'Správně zaklasifikováné lidi z pozitivních dat: {pos_acc}')\n",
    "\n",
    "\n",
    "predictions_neg = model.predict(data_val_neg)\n",
    "neg_acc=sum(predictions_neg)/len(predictions_neg)\n",
    "print(f'Správně zaklasifikované ostatní objekty z negativních dat jako lidi: {neg_acc}')\n",
    "\n",
    "print('-------')\n",
    "sum_acc=(((1-neg_acc)+pos_acc)/2)*100\n",
    "print(f'celková úspěšnost SVM v %: {sum_acc}')\n"
   ]
  }
 ],
 "metadata": {
  "kernelspec": {
   "display_name": "Python 3",
   "language": "python",
   "name": "python3"
  },
  "language_info": {
   "codemirror_mode": {
    "name": "ipython",
    "version": 3
   },
   "file_extension": ".py",
   "mimetype": "text/x-python",
   "name": "python",
   "nbconvert_exporter": "python",
   "pygments_lexer": "ipython3",
   "version": "3.6.3"
  }
 },
 "nbformat": 4,
 "nbformat_minor": 4
}
